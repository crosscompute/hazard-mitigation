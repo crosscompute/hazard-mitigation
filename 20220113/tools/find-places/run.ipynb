{
 "cells": [
  {
   "cell_type": "code",
   "execution_count": null,
   "id": "7082143e-a4f9-4c55-a105-3a62aadc89fe",
   "metadata": {},
   "outputs": [],
   "source": [
    "from os import environ\n",
    "input_folder = environ.get('CROSSCOMPUTE_INPUT_FOLDER', 'tests/standard/input')\n",
    "output_folder = environ.get('CROSSCOMPUTE_OUTPUT_FOLDER', 'tests/standard/output')\n",
    "GOOGLE_KEY = environ['GOOGLE_KEY']"
   ]
  },
  {
   "cell_type": "code",
   "execution_count": null,
   "id": "25c78709-70e4-45de-9662-12d052276291",
   "metadata": {},
   "outputs": [],
   "source": [
    "import json\n",
    "from os.path import join\n",
    "variables = json.load(open(join(input_folder, 'variables.dictionary')))\n",
    "description = variables['description']\n",
    "location = variables['location']"
   ]
  },
  {
   "cell_type": "code",
   "execution_count": null,
   "id": "4b26b35a-2588-42c9-a5c3-51ce73112489",
   "metadata": {},
   "outputs": [],
   "source": [
    "import requests\n",
    "from time import sleep\n",
    "\n",
    "def fetch_json(url):\n",
    "    while True:\n",
    "        response = requests.get(url)\n",
    "        response_json = response.json()\n",
    "        response_status = response_json['status']\n",
    "        if response_status == 'OK':\n",
    "            break\n",
    "        elif response_status == 'REQUEST_DENIED':\n",
    "            raise requests.exceptions.ConnectionError(\n",
    "                'please check your GOOGLE_KEY')\n",
    "        print(response_status)\n",
    "        sleep(2)\n",
    "    return response_json\n",
    "\n",
    "endpoint_url = 'https://maps.googleapis.com/maps/api/place/textsearch/json'\n",
    "text = f'{description} in {location}'\n",
    "url = f'{endpoint_url}?query={text}&key={GOOGLE_KEY}'\n",
    "response_json = fetch_json(url)"
   ]
  },
  {
   "cell_type": "code",
   "execution_count": null,
   "id": "40edecc5-cddc-4143-8f39-4fea17d51765",
   "metadata": {},
   "outputs": [],
   "source": [
    "results = []\n",
    "results.extend(response_json['results'])\n",
    "len(results)"
   ]
  },
  {
   "cell_type": "code",
   "execution_count": null,
   "id": "f792c55c-1c32-4ee7-ac7f-a235cf573fc5",
   "metadata": {},
   "outputs": [],
   "source": [
    "while 'next_page_token' in response_json:\n",
    "    page_token = response_json['next_page_token']\n",
    "    url = f'{endpoint_url}?pagetoken={page_token}&key={GOOGLE_KEY}'\n",
    "    sleep(2)\n",
    "    response_json = fetch_json(url)\n",
    "    results.extend(response_json['results'])\n",
    "    print(len(results))"
   ]
  },
  {
   "cell_type": "code",
   "execution_count": null,
   "id": "b8ec1a85-0bf8-4faf-a8fd-d23489d0f434",
   "metadata": {},
   "outputs": [],
   "source": [
    "json.dump(results, open(join(output_folder, 'raw.json'), 'wt'))"
   ]
  },
  {
   "cell_type": "code",
   "execution_count": null,
   "id": "ef597e67-ba97-4191-b6a3-9a551e1dd15c",
   "metadata": {},
   "outputs": [],
   "source": [
    "dictionaries = []\n",
    "for r in results:\n",
    "    l = r['geometry']['location']\n",
    "    dictionaries.append({\n",
    "        'name': r['name'],\n",
    "        'address': r['formatted_address'],\n",
    "        'status': r['business_status'],\n",
    "        'rating': r['rating'],\n",
    "        'rating_count': r['user_ratings_total'],\n",
    "        'longitude': l['lng'],\n",
    "        'latitude': l['lat'],\n",
    "    })"
   ]
  },
  {
   "cell_type": "code",
   "execution_count": null,
   "id": "615f54d5-1452-47fb-b89e-daf162fac527",
   "metadata": {},
   "outputs": [],
   "source": [
    "import csv\n",
    "columns = [\n",
    "    'name', 'address', 'status', 'rating', 'rating_count',\n",
    "    'longitude', 'latitude']\n",
    "rows = [[_[k] for k in columns] for _ in dictionaries]\n",
    "with open(join(output_folder, 'places.csv'), 'wt') as f:\n",
    "    csv_writer = csv.writer(f)\n",
    "    csv_writer.writerow(columns)\n",
    "    csv_writer.writerows(rows)"
   ]
  },
  {
   "cell_type": "code",
   "execution_count": null,
   "id": "5bd50d6a-7a3f-44a9-9867-f4fc428e1534",
   "metadata": {},
   "outputs": [],
   "source": [
    "features = []\n",
    "for d in dictionaries:\n",
    "    features.append({\n",
    "        'type': 'Feature',\n",
    "        'properties': {\n",
    "            'name': d['name'],\n",
    "            'address': d['address'],\n",
    "            'status': d['status'],\n",
    "            'rating': d['rating'],\n",
    "            'rating_count': d['rating_count'],\n",
    "        },\n",
    "        'geometry': {\n",
    "            'type': 'Point',\n",
    "            'coordinates': [d['longitude'], d['latitude']],\n",
    "        },\n",
    "    })\n",
    "json.dump({\n",
    "    'type': 'FeatureCollection',\n",
    "    'features': features,\n",
    "}, open(join(output_folder, 'geometries.geojson'), 'wt'))"
   ]
  },
  {
   "cell_type": "code",
   "execution_count": null,
   "id": "cf8a9a8c-a4fb-428f-96a1-da4e97e613b4",
   "metadata": {},
   "outputs": [],
   "source": [
    "xys = []\n",
    "for d in dictionaries:\n",
    "    xys.append((d['longitude'], d['latitude']))\n",
    "# json.dump(xys, open(join(output_folder, 'geometries.json'), 'wt'))"
   ]
  },
  {
   "cell_type": "code",
   "execution_count": null,
   "id": "7c3e90ef-712c-446a-8707-a7ecd71c9683",
   "metadata": {},
   "outputs": [],
   "source": [
    "def average(xs):\n",
    "    return sum(xs) / len(xs)\n",
    "\n",
    "json.dump({\n",
    "    'longitude': average([_[0] for _ in xys]),\n",
    "    'latitude': average([_[1] for _ in xys]),\n",
    "    'zoom': 10,\n",
    "}, open(join(output_folder, 'map.json'), 'wt'))"
   ]
  }
 ],
 "metadata": {
  "kernelspec": {
   "display_name": "Python 3 (ipykernel)",
   "language": "python",
   "name": "python3"
  },
  "language_info": {
   "codemirror_mode": {
    "name": "ipython",
    "version": 3
   },
   "file_extension": ".py",
   "mimetype": "text/x-python",
   "name": "python",
   "nbconvert_exporter": "python",
   "pygments_lexer": "ipython3",
   "version": "3.9.5"
  }
 },
 "nbformat": 4,
 "nbformat_minor": 5
}
