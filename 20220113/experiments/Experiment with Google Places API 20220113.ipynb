{
 "cells": [
  {
   "cell_type": "code",
   "execution_count": 1,
   "id": "26821012-8cf6-4c70-81da-3db19b4274cd",
   "metadata": {},
   "outputs": [
    {
     "name": "stdout",
     "output_type": "stream",
     "text": [
      "Collecting googlemaps\n",
      "  Downloading googlemaps-4.5.3.tar.gz (32 kB)\n",
      "  Preparing metadata (setup.py) ... \u001b[?25ldone\n",
      "\u001b[?25hRequirement already satisfied: requests<3.0,>=2.20.0 in /home/invisibleroads/.virtualenvs/crosscompute/lib/python3.9/site-packages (from googlemaps) (2.26.0)\n",
      "Requirement already satisfied: idna<4,>=2.5 in /home/invisibleroads/.virtualenvs/crosscompute/lib/python3.9/site-packages (from requests<3.0,>=2.20.0->googlemaps) (3.3)\n",
      "Requirement already satisfied: certifi>=2017.4.17 in /home/invisibleroads/.virtualenvs/crosscompute/lib/python3.9/site-packages (from requests<3.0,>=2.20.0->googlemaps) (2021.10.8)\n",
      "Requirement already satisfied: urllib3<1.27,>=1.21.1 in /home/invisibleroads/.virtualenvs/crosscompute/lib/python3.9/site-packages (from requests<3.0,>=2.20.0->googlemaps) (1.26.7)\n",
      "Requirement already satisfied: charset-normalizer~=2.0.0 in /home/invisibleroads/.virtualenvs/crosscompute/lib/python3.9/site-packages (from requests<3.0,>=2.20.0->googlemaps) (2.0.7)\n",
      "Building wheels for collected packages: googlemaps\n",
      "  Building wheel for googlemaps (setup.py) ... \u001b[?25ldone\n",
      "\u001b[?25h  Created wheel for googlemaps: filename=googlemaps-4.5.3-py3-none-any.whl size=38479 sha256=b6a40946ae2d4a930ac8efbe883c28a9c30e061f0b78b11ce0350eb8f01ca996\n",
      "  Stored in directory: /home/invisibleroads/.cache/pip/wheels/45/3a/bd/ac73c8f5202c55a700dcdaddd30207b57825bb8a22925b9074\n",
      "Successfully built googlemaps\n",
      "Installing collected packages: googlemaps\n",
      "Successfully installed googlemaps-4.5.3\n",
      "Note: you may need to restart the kernel to use updated packages.\n"
     ]
    }
   ],
   "source": [
    "pip install -U googlemaps"
   ]
  },
  {
   "cell_type": "code",
   "execution_count": 1,
   "id": "3635a74b-2f03-4690-b916-7cd23ded9835",
   "metadata": {},
   "outputs": [],
   "source": [
    "from os import environ\n",
    "GOOGLE_KEY = environ['GOOGLE_KEY']"
   ]
  },
  {
   "cell_type": "code",
   "execution_count": 16,
   "id": "54360fe1-2855-4292-bb17-c692ab18ae6b",
   "metadata": {},
   "outputs": [
    {
     "data": {
      "text/plain": [
       "'a+b+%26'"
      ]
     },
     "execution_count": 16,
     "metadata": {},
     "output_type": "execute_result"
    }
   ],
   "source": [
    "from urllib.parse import quote_plus\n",
    "quote_plus('a b &')"
   ]
  },
  {
   "cell_type": "code",
   "execution_count": 37,
   "id": "ddeb2ffa-e8c4-41e1-a26b-3c777d698b85",
   "metadata": {},
   "outputs": [
    {
     "data": {
      "text/plain": [
       "[{'address_components': [{'long_name': 'New York',\n",
       "    'short_name': 'New York',\n",
       "    'types': ['locality', 'political']},\n",
       "   {'long_name': 'New York',\n",
       "    'short_name': 'NY',\n",
       "    'types': ['administrative_area_level_1', 'political']},\n",
       "   {'long_name': 'United States',\n",
       "    'short_name': 'US',\n",
       "    'types': ['country', 'political']}],\n",
       "  'formatted_address': 'New York, NY, USA',\n",
       "  'geometry': {'bounds': {'northeast': {'lat': 40.9175771,\n",
       "     'lng': -73.70027209999999},\n",
       "    'southwest': {'lat': 40.4773991, 'lng': -74.25908989999999}},\n",
       "   'location': {'lat': 40.7127753, 'lng': -74.0059728},\n",
       "   'location_type': 'APPROXIMATE',\n",
       "   'viewport': {'northeast': {'lat': 40.9175771, 'lng': -73.70027209999999},\n",
       "    'southwest': {'lat': 40.4773991, 'lng': -74.25908989999999}}},\n",
       "  'place_id': 'ChIJOwg_06VPwokRYv534QaPC8g',\n",
       "  'types': ['locality', 'political']}]"
      ]
     },
     "execution_count": 37,
     "metadata": {},
     "output_type": "execute_result"
    }
   ],
   "source": [
    "from googlemaps import Client\n",
    "gmaps = Client(key=environ['GOOGLE_KEY'])\n",
    "location = gmaps.geocode('new york, ny')\n",
    "location"
   ]
  },
  {
   "cell_type": "code",
   "execution_count": 41,
   "id": "cd5423c8-f71c-4eb5-b09e-acb657d70bf2",
   "metadata": {},
   "outputs": [
    {
     "data": {
      "text/plain": [
       "{'northeast': {'lat': 40.9175771, 'lng': -73.70027209999999},\n",
       " 'southwest': {'lat': 40.4773991, 'lng': -74.25908989999999}}"
      ]
     },
     "execution_count": 41,
     "metadata": {},
     "output_type": "execute_result"
    }
   ],
   "source": [
    "bounds_dictionary = location[0]['geometry']['bounds']\n",
    "bounds_dictionary"
   ]
  },
  {
   "cell_type": "code",
   "execution_count": 44,
   "id": "72f51f83-932a-4a41-9c96-0e8da6fb5758",
   "metadata": {},
   "outputs": [
    {
     "data": {
      "text/plain": [
       "'rectangle:40.4773991,-74.25908989999999|40.9175771,-73.70027209999999'"
      ]
     },
     "execution_count": 44,
     "metadata": {},
     "output_type": "execute_result"
    }
   ],
   "source": [
    "# rectangle:south,west|north,east\n",
    "sw = bounds_dictionary['southwest']\n",
    "ne = bounds_dictionary['northeast']\n",
    "north = ne['lat']\n",
    "east = ne['lng']\n",
    "south = sw['lat']\n",
    "west = sw['lng']\n",
    "location_string = f'rectangle:{south},{west}|{north},{east}'\n",
    "location_string"
   ]
  },
  {
   "cell_type": "code",
   "execution_count": 50,
   "id": "aa48f5c8-e5dd-4533-8de1-84e1f8f06ec2",
   "metadata": {},
   "outputs": [
    {
     "name": "stdout",
     "output_type": "stream",
     "text": [
      "{\n",
      "   \"candidates\" : [\n",
      "      {\n",
      "         \"business_status\" : \"OPERATIONAL\",\n",
      "         \"formatted_address\" : \"170 William St, New York, NY 10038, United States\",\n",
      "         \"geometry\" : {\n",
      "            \"location\" : {\n",
      "               \"lat\" : 40.71039,\n",
      "               \"lng\" : -74.00510299999999\n",
      "            },\n",
      "            \"viewport\" : {\n",
      "               \"northeast\" : {\n",
      "                  \"lat\" : 40.71162432989272,\n",
      "                  \"lng\" : -74.00369072010729\n",
      "               },\n",
      "               \"southwest\" : {\n",
      "                  \"lat\" : 40.70892467010727,\n",
      "                  \"lng\" : -74.00639037989274\n",
      "               }\n",
      "            }\n",
      "         },\n",
      "         \"icon\" : \"https://maps.gstatic.com/mapfiles/place_api/icons/v1/png_71/hospital-71.png\",\n",
      "         \"icon_background_color\" : \"#F88181\",\n",
      "         \"icon_mask_base_uri\" : \"https://maps.gstatic.com/mapfiles/place_api/icons/v2/hospital-H_pinlet\",\n",
      "         \"name\" : \"NewYork-Presbyterian Lower Manhattan Hospital\",\n",
      "         \"photos\" : [\n",
      "            {\n",
      "               \"height\" : 3024,\n",
      "               \"html_attributions\" : [\n",
      "                  \"\\u003ca href=\\\"https://maps.google.com/maps/contrib/111988312660811379471\\\"\\u003eRich Tycoon\\u003c/a\\u003e\"\n",
      "               ],\n",
      "               \"photo_reference\" : \"Aap_uEDXRPeF_nLq2AQPXxQzV2ITxo2_ThHKXINfRYk_tTZpplrWzmwAzq_JEdv6J_9ML1fzmgI-08jQ95mxQqsH2QTF-CeeLdNy6U8iCsRDepL-NSrVCXrK6iNZAF3aBiifS6mIXoLaSBiEDxNf5W4UxAKOJzYz2-s8iKpxLIYp8YlsaQTi\",\n",
      "               \"width\" : 4032\n",
      "            }\n",
      "         ],\n",
      "         \"place_id\" : \"ChIJpYoZlyJawokRv65psH6e2pI\",\n",
      "         \"plus_code\" : {\n",
      "            \"compound_code\" : \"PX6V+5X New York\",\n",
      "            \"global_code\" : \"87G7PX6V+5X\"\n",
      "         },\n",
      "         \"types\" : [ \"hospital\", \"health\", \"point_of_interest\", \"establishment\" ]\n",
      "      }\n",
      "   ],\n",
      "   \"status\" : \"OK\"\n",
      "}\n",
      "\n"
     ]
    }
   ],
   "source": [
    "import requests\n",
    "\n",
    "text = 'hospital in new york ny'\n",
    "fields = [\n",
    "    # 'address_component',\n",
    "    # 'adr_address',\n",
    "    'business_status',\n",
    "    'formatted_address',\n",
    "    'geometry',\n",
    "    'icon',\n",
    "    'icon_mask_base_uri',\n",
    "    'icon_background_color',\n",
    "    'name',\n",
    "    # 'permanently_closed',\n",
    "    'photo',\n",
    "    'place_id',\n",
    "    'plus_code',\n",
    "    'type',\n",
    "    # 'url',\n",
    "    # 'utc_offset',\n",
    "    # 'vicinity',\n",
    "]\n",
    "fields_string = ','.join(fields)\n",
    "url = (\n",
    "    'https://maps.googleapis.com/maps/api/place/findplacefromtext/json?'\n",
    "    f'input={text}&inputtype=textquery&fields={fields_string}&'\n",
    "    # f'locationbias={location_string}&'\n",
    "    f'key={GOOGLE_KEY}')\n",
    "# print(url)\n",
    "payload = {}\n",
    "headers = {}\n",
    "response = requests.request('GET', url, headers=headers, data=payload)\n",
    "print(response.text)"
   ]
  },
  {
   "cell_type": "code",
   "execution_count": 2,
   "id": "6acdd1bb-5fc0-44c2-99d5-71590e592e53",
   "metadata": {},
   "outputs": [],
   "source": [
    "import requests\n",
    "\n",
    "text = 'hospital in New York, NY'\n",
    "url = (\n",
    "    'https://maps.googleapis.com/maps/api/place/textsearch/json?'\n",
    "    f'query={text}&key={GOOGLE_KEY}')\n",
    "\n",
    "payload = {}\n",
    "headers = {}\n",
    "\n",
    "response = requests.request('GET', url, headers=headers, data=payload)\n",
    "response_json = response.json()"
   ]
  },
  {
   "cell_type": "code",
   "execution_count": 3,
   "id": "c850ad2c-4715-418c-92c8-5fde7f7f0b31",
   "metadata": {},
   "outputs": [
    {
     "data": {
      "text/plain": [
       "dict_keys(['html_attributions', 'next_page_token', 'results', 'status'])"
      ]
     },
     "execution_count": 3,
     "metadata": {},
     "output_type": "execute_result"
    }
   ],
   "source": [
    "response_json.keys()"
   ]
  },
  {
   "cell_type": "code",
   "execution_count": 4,
   "id": "352cbb16-0ccd-4270-aa86-864daafe1ab4",
   "metadata": {},
   "outputs": [
    {
     "data": {
      "text/plain": [
       "[]"
      ]
     },
     "execution_count": 4,
     "metadata": {},
     "output_type": "execute_result"
    }
   ],
   "source": [
    "response_json['html_attributions']"
   ]
  },
  {
   "cell_type": "code",
   "execution_count": 5,
   "id": "4585ad6d-fc4c-4454-ae2a-89108d860e96",
   "metadata": {},
   "outputs": [
    {
     "data": {
      "text/plain": [
       "'OK'"
      ]
     },
     "execution_count": 5,
     "metadata": {},
     "output_type": "execute_result"
    }
   ],
   "source": [
    "response_json['status']"
   ]
  },
  {
   "cell_type": "code",
   "execution_count": 6,
   "id": "c29cd050-afdd-40d0-a0d2-013a29521098",
   "metadata": {},
   "outputs": [
    {
     "data": {
      "text/plain": [
       "20"
      ]
     },
     "execution_count": 6,
     "metadata": {},
     "output_type": "execute_result"
    }
   ],
   "source": [
    "len(response_json['results'])"
   ]
  },
  {
   "cell_type": "code",
   "execution_count": 7,
   "id": "ea86d9d5-1fb3-466d-af8b-3d0d05d95f9a",
   "metadata": {},
   "outputs": [],
   "source": [
    "page_token = response_json['next_page_token']"
   ]
  },
  {
   "cell_type": "code",
   "execution_count": 8,
   "id": "aa6aff0a-3ca8-4f3b-a5f8-312e6b915e3f",
   "metadata": {},
   "outputs": [],
   "source": [
    "results = []\n",
    "results.extend(response_json['results'])"
   ]
  },
  {
   "cell_type": "code",
   "execution_count": 9,
   "id": "35160f44-e3b5-417e-8f19-bebb3c18e133",
   "metadata": {},
   "outputs": [
    {
     "data": {
      "text/plain": [
       "20"
      ]
     },
     "execution_count": 9,
     "metadata": {},
     "output_type": "execute_result"
    }
   ],
   "source": [
    "len(results)"
   ]
  },
  {
   "cell_type": "code",
   "execution_count": 12,
   "id": "f06fef6a-ed67-4384-8eea-32cfe1665a15",
   "metadata": {},
   "outputs": [],
   "source": [
    "import requests\n",
    "\n",
    "url = (\n",
    "    'https://maps.googleapis.com/maps/api/place/textsearch/json?'\n",
    "    f'pagetoken={page_token}&key={GOOGLE_KEY}')\n",
    "\n",
    "payload = {}\n",
    "headers = {}\n",
    "\n",
    "response = requests.request('GET', url, headers=headers, data=payload)\n",
    "response_json = response.json()"
   ]
  },
  {
   "cell_type": "code",
   "execution_count": 13,
   "id": "5cc9619a-8d78-4196-aa6a-06f4b4ec9b57",
   "metadata": {},
   "outputs": [
    {
     "name": "stdout",
     "output_type": "stream",
     "text": [
      "no more\n"
     ]
    }
   ],
   "source": [
    "try:\n",
    "    page_token = response_json['next_page_token']\n",
    "except KeyError:\n",
    "    print('no more')\n",
    "results.extend(response_json['results'])"
   ]
  },
  {
   "cell_type": "code",
   "execution_count": 14,
   "id": "fad0b85c-40f6-4b82-88c4-e29731719119",
   "metadata": {},
   "outputs": [
    {
     "data": {
      "text/plain": [
       "60"
      ]
     },
     "execution_count": 14,
     "metadata": {},
     "output_type": "execute_result"
    }
   ],
   "source": [
    "len(results)"
   ]
  },
  {
   "cell_type": "code",
   "execution_count": 87,
   "id": "720cfaed-f9e3-4a14-b871-02b646a07d71",
   "metadata": {},
   "outputs": [
    {
     "data": {
      "text/plain": [
       "'NewYork-Presbyterian Lower Manhattan Hospital'"
      ]
     },
     "execution_count": 87,
     "metadata": {},
     "output_type": "execute_result"
    }
   ],
   "source": [
    "results[0]['name']"
   ]
  },
  {
   "cell_type": "code",
   "execution_count": 17,
   "id": "5bc601f7-9b10-4120-bae6-b5045b0eeee9",
   "metadata": {},
   "outputs": [
    {
     "data": {
      "text/plain": [
       "56"
      ]
     },
     "execution_count": 17,
     "metadata": {},
     "output_type": "execute_result"
    }
   ],
   "source": [
    "len(set([_['name'] for _ in results]))"
   ]
  },
  {
   "cell_type": "code",
   "execution_count": 93,
   "id": "832281e3-bec1-460f-9881-559e71e77cc3",
   "metadata": {},
   "outputs": [
    {
     "name": "stdout",
     "output_type": "stream",
     "text": [
      "['hospital', 'health', 'point_of_interest', 'establishment']\n",
      "['hospital', 'health', 'point_of_interest', 'establishment']\n",
      "['hospital', 'health', 'point_of_interest', 'establishment']\n",
      "['hospital', 'health', 'point_of_interest', 'establishment']\n",
      "['hospital', 'health', 'point_of_interest', 'establishment']\n",
      "['hospital', 'health', 'point_of_interest', 'establishment']\n",
      "['hospital', 'health', 'point_of_interest', 'establishment']\n",
      "['hospital', 'health', 'point_of_interest', 'establishment']\n",
      "['hospital', 'health', 'point_of_interest', 'establishment']\n",
      "['hospital', 'health', 'point_of_interest', 'establishment']\n",
      "['hospital', 'health', 'point_of_interest', 'establishment']\n",
      "['hospital', 'health', 'point_of_interest', 'establishment']\n",
      "['hospital', 'health', 'point_of_interest', 'establishment']\n",
      "['hospital', 'health', 'point_of_interest', 'establishment']\n",
      "['hospital', 'pharmacy', 'health', 'point_of_interest', 'store', 'establishment']\n",
      "['hospital', 'health', 'point_of_interest', 'establishment']\n",
      "['hospital', 'health', 'point_of_interest', 'establishment']\n",
      "['hospital', 'health', 'point_of_interest', 'establishment']\n",
      "['hospital', 'health', 'point_of_interest', 'establishment']\n",
      "['hospital', 'health', 'point_of_interest', 'establishment']\n",
      "['hospital', 'health', 'point_of_interest', 'establishment']\n",
      "['hospital', 'health', 'point_of_interest', 'establishment']\n",
      "['pharmacy', 'hospital', 'doctor', 'health', 'point_of_interest', 'store', 'establishment']\n",
      "['hospital', 'health', 'point_of_interest', 'establishment']\n",
      "['hospital', 'health', 'point_of_interest', 'establishment']\n",
      "['hospital', 'health', 'point_of_interest', 'establishment']\n",
      "['hospital', 'health', 'point_of_interest', 'establishment']\n",
      "['hospital', 'health', 'point_of_interest', 'establishment']\n",
      "['hospital', 'health', 'point_of_interest', 'establishment']\n",
      "['hospital', 'health', 'point_of_interest', 'establishment']\n",
      "['hospital', 'health', 'point_of_interest', 'establishment']\n",
      "['hospital', 'health', 'point_of_interest', 'establishment']\n",
      "['hospital', 'health', 'point_of_interest', 'establishment']\n",
      "['hospital', 'health', 'point_of_interest', 'establishment']\n",
      "['hospital', 'health', 'point_of_interest', 'establishment']\n",
      "['hospital', 'health', 'point_of_interest', 'establishment']\n",
      "['hospital', 'health', 'point_of_interest', 'establishment']\n",
      "['hospital', 'health', 'point_of_interest', 'establishment']\n",
      "['hospital', 'health', 'point_of_interest', 'establishment']\n",
      "['hospital', 'health', 'point_of_interest', 'establishment']\n",
      "['hospital', 'health', 'point_of_interest', 'establishment']\n",
      "['hospital', 'health', 'point_of_interest', 'establishment']\n",
      "['hospital', 'health', 'point_of_interest', 'establishment']\n",
      "['hospital', 'health', 'point_of_interest', 'establishment']\n",
      "['hospital', 'health', 'point_of_interest', 'establishment']\n",
      "['hospital', 'health', 'point_of_interest', 'establishment']\n",
      "['health', 'point_of_interest', 'establishment']\n",
      "['hospital', 'doctor', 'health', 'point_of_interest', 'establishment']\n",
      "['hospital', 'health', 'point_of_interest', 'establishment']\n",
      "['hospital', 'health', 'point_of_interest', 'establishment']\n",
      "['hospital', 'health', 'point_of_interest', 'establishment']\n",
      "['hospital', 'health', 'point_of_interest', 'establishment']\n",
      "['hospital', 'health', 'point_of_interest', 'establishment']\n",
      "['hospital', 'health', 'point_of_interest', 'establishment']\n",
      "['hospital', 'health', 'point_of_interest', 'establishment']\n",
      "['hospital', 'health', 'point_of_interest', 'establishment']\n",
      "['hospital', 'health', 'point_of_interest', 'establishment']\n",
      "['hospital', 'health', 'point_of_interest', 'establishment']\n",
      "['health', 'point_of_interest', 'establishment']\n",
      "['hospital', 'health', 'point_of_interest', 'establishment']\n"
     ]
    }
   ],
   "source": [
    "for r in results:\n",
    "    print(r['types'])"
   ]
  },
  {
   "cell_type": "code",
   "execution_count": 95,
   "id": "a52f842f-cbe5-4466-b731-af4a66c1e240",
   "metadata": {},
   "outputs": [
    {
     "data": {
      "text/plain": [
       "(-74.00510299999999, 40.71039)"
      ]
     },
     "execution_count": 95,
     "metadata": {},
     "output_type": "execute_result"
    }
   ],
   "source": [
    "xys = []\n",
    "for r in results:\n",
    "    location = r['geometry']['location']\n",
    "    x = location['lng']\n",
    "    y = location['lat']\n",
    "    xys.append((x, y))\n",
    "xys[0]"
   ]
  },
  {
   "cell_type": "code",
   "execution_count": 96,
   "id": "3650ba1f-91b3-45e1-90e4-0221ab1a5239",
   "metadata": {},
   "outputs": [
    {
     "data": {
      "text/plain": [
       "60"
      ]
     },
     "execution_count": 96,
     "metadata": {},
     "output_type": "execute_result"
    }
   ],
   "source": [
    "len(xys)"
   ]
  },
  {
   "cell_type": "code",
   "execution_count": 98,
   "id": "a4546e36-8dee-4032-8104-5b650cc8219b",
   "metadata": {},
   "outputs": [
    {
     "data": {
      "text/plain": [
       "60"
      ]
     },
     "execution_count": 98,
     "metadata": {},
     "output_type": "execute_result"
    }
   ],
   "source": [
    "len(set(xys))"
   ]
  },
  {
   "cell_type": "code",
   "execution_count": 99,
   "id": "8678a1e0-81ff-4a40-b389-129d3028c6bc",
   "metadata": {},
   "outputs": [
    {
     "data": {
      "text/plain": [
       "[(-74.00510299999999, 40.71039),\n",
       " (-73.9614551, 40.805371),\n",
       " (-73.9825649, 40.7333501),\n",
       " (-73.9537225, 40.76513910000001),\n",
       " (-73.9387421, 40.8393896),\n",
       " (-73.9609812, 40.7739364),\n",
       " (-73.98680209999999, 40.769665),\n",
       " (-73.9542869, 40.7643076),\n",
       " (-73.9557624, 40.7647638),\n",
       " (-73.93950869999999, 40.8143104),\n",
       " (-73.9519461, 40.7687832),\n",
       " (-73.95593989999999, 40.7612373),\n",
       " (-73.9551731, 40.76553819999999),\n",
       " (-73.9524454, 40.7899484),\n",
       " (-73.9413855, 40.8409414),\n",
       " (-73.953932, 40.7658029),\n",
       " (-73.9739553, 40.742193),\n",
       " (-73.9762044, 40.7396865),\n",
       " (-73.9410621, 40.8391338),\n",
       " (-73.97222529999999, 40.7468516),\n",
       " (-73.9434228, 40.8417049),\n",
       " (-73.9443993, 40.7848889),\n",
       " (-73.98770329999999, 40.7129914),\n",
       " (-73.9240962, 40.817374),\n",
       " (-73.8464133, 40.8557535),\n",
       " (-73.9736534, 40.7420166),\n",
       " (-74.0045876, 40.7100686),\n",
       " (-73.9531111, 40.7882342),\n",
       " (-73.94470749999999, 40.6568816),\n",
       " (-73.9696106, 40.7588931),\n",
       " (-73.9540549, 40.764802),\n",
       " (-73.9413787, 40.8398447),\n",
       " (-73.9425799, 40.841657),\n",
       " (-73.961459, 40.8054014),\n",
       " (-73.9723992, 40.7437525),\n",
       " (-73.9415391, 40.8031818),\n",
       " (-73.9546173, 40.7644929),\n",
       " (-73.9817685, 40.7475695),\n",
       " (-73.9541658, 40.7657186),\n",
       " (-73.9651269, 40.7599374),\n",
       " (-74.0058521, 40.7099667),\n",
       " (-73.9433196, 40.8408017),\n",
       " (-73.9558715, 40.7646527),\n",
       " (-73.9631966, 40.8079381),\n",
       " (-73.9584608, 40.7830746),\n",
       " (-73.8656003, 40.8795075),\n",
       " (-74.00475829999999, 40.7101498),\n",
       " (-73.8860322, 40.7446774),\n",
       " (-73.95964599999999, 40.773334),\n",
       " (-73.88108249999999, 40.8805787),\n",
       " (-73.8045894, 40.7169282),\n",
       " (-73.82521489999999, 40.7471986),\n",
       " (-73.9868805, 40.7697168),\n",
       " (-73.9484207, 40.6139406),\n",
       " (-73.9430003, 40.6994152),\n",
       " (-73.9123577, 40.6549713),\n",
       " (-73.9698216, 40.758362),\n",
       " (-73.9413627, 40.6581135),\n",
       " (-74.000909, 40.7378021),\n",
       " (-73.9780268, 40.6909388)]"
      ]
     },
     "execution_count": 99,
     "metadata": {},
     "output_type": "execute_result"
    }
   ],
   "source": [
    "xys"
   ]
  },
  {
   "cell_type": "code",
   "execution_count": 100,
   "id": "39999000-f1ef-4dda-b079-e7365103e597",
   "metadata": {},
   "outputs": [
    {
     "data": {
      "text/plain": [
       "{'html_attributions': [],\n",
       " 'results': [{'business_status': 'OPERATIONAL',\n",
       "   'formatted_address': '156 William St, New York, NY 10038, United States',\n",
       "   'geometry': {'location': {'lat': 40.7099667, 'lng': -74.0058521},\n",
       "    'viewport': {'northeast': {'lat': 40.71126047989272,\n",
       "      'lng': -74.00458887010727},\n",
       "     'southwest': {'lat': 40.70856082010728, 'lng': -74.00728852989272}}},\n",
       "   'icon': 'https://maps.gstatic.com/mapfiles/place_api/icons/v1/png_71/hospital-71.png',\n",
       "   'icon_background_color': '#F88181',\n",
       "   'icon_mask_base_uri': 'https://maps.gstatic.com/mapfiles/place_api/icons/v2/hospital-H_pinlet',\n",
       "   'name': 'Presbyterian Downtown Hospital',\n",
       "   'opening_hours': {},\n",
       "   'photos': [{'height': 3024,\n",
       "     'html_attributions': ['<a href=\"https://maps.google.com/maps/contrib/117266129966979842820\">Philip</a>'],\n",
       "     'photo_reference': 'Aap_uECQoTJUMnASQTowLyiyFc-xaGf4-UAXLSFj_JA86IfMqbUQi07Q-EjSeYUBOZCaFikD33sXkM_uc3ahvQZH3x2IwZquv5WLpbz28uGVsVnXPBP7o9-svPPBa4WceQicDCFtr983Hx4IPqxx4e3OpPp7Mz7zYtideuF6kVIZ-h6VJw8G',\n",
       "     'width': 4032}],\n",
       "   'place_id': 'ChIJTVkNbkpbwokRUWriLMAC6k4',\n",
       "   'plus_code': {'compound_code': 'PX5V+XM New York',\n",
       "    'global_code': '87G7PX5V+XM'},\n",
       "   'rating': 3,\n",
       "   'reference': 'ChIJTVkNbkpbwokRUWriLMAC6k4',\n",
       "   'types': ['hospital', 'health', 'point_of_interest', 'establishment'],\n",
       "   'user_ratings_total': 4},\n",
       "  {'business_status': 'OPERATIONAL',\n",
       "   'formatted_address': '161 Fort Washington Ave, New York, NY 10032, United States',\n",
       "   'geometry': {'location': {'lat': 40.8408017, 'lng': -73.9433196},\n",
       "    'viewport': {'northeast': {'lat': 40.84238757989272,\n",
       "      'lng': -73.94163937010728},\n",
       "     'southwest': {'lat': 40.83968792010727, 'lng': -73.94433902989272}}},\n",
       "   'icon': 'https://maps.gstatic.com/mapfiles/place_api/icons/v1/png_71/hospital-71.png',\n",
       "   'icon_background_color': '#F88181',\n",
       "   'icon_mask_base_uri': 'https://maps.gstatic.com/mapfiles/place_api/icons/v2/hospital-H_pinlet',\n",
       "   'name': 'New York Presbyterian Hospital Infirmary',\n",
       "   'opening_hours': {},\n",
       "   'place_id': 'ChIJW2D3c5v2wokRHf83c3J51Fo',\n",
       "   'plus_code': {'compound_code': 'R3R4+8M New York',\n",
       "    'global_code': '87G8R3R4+8M'},\n",
       "   'rating': 4.7,\n",
       "   'reference': 'ChIJW2D3c5v2wokRHf83c3J51Fo',\n",
       "   'types': ['hospital', 'health', 'point_of_interest', 'establishment'],\n",
       "   'user_ratings_total': 3},\n",
       "  {'business_status': 'OPERATIONAL',\n",
       "   'formatted_address': '1283 York Ave, New York, NY 10065, United States',\n",
       "   'geometry': {'location': {'lat': 40.7646527, 'lng': -73.9558715},\n",
       "    'viewport': {'northeast': {'lat': 40.76590607989272,\n",
       "      'lng': -73.95433742010728},\n",
       "     'southwest': {'lat': 40.76320642010727, 'lng': -73.95703707989273}}},\n",
       "   'icon': 'https://maps.gstatic.com/mapfiles/place_api/icons/v1/png_71/hospital-71.png',\n",
       "   'icon_background_color': '#F88181',\n",
       "   'icon_mask_base_uri': 'https://maps.gstatic.com/mapfiles/place_api/icons/v2/hospital-H_pinlet',\n",
       "   'name': 'NewYork-Presbyterian David H. Koch Center',\n",
       "   'opening_hours': {},\n",
       "   'photos': [{'height': 4032,\n",
       "     'html_attributions': ['<a href=\"https://maps.google.com/maps/contrib/104817268573065119850\">Steven Scalici</a>'],\n",
       "     'photo_reference': 'Aap_uEDD_-HHMPM63FuJI5FUUE6pTnRzO25a1Troom1t0JFsxKd7xO7esVU71KgpKd57iHLkcoV2MZqMkXoDdbQMhMhTlFV4Ei5mWVzAwZgzmW9fRZ0s_eQpFSFFbfVrjO9f0yxH_B47k9khNxtFPtVMSGB6B-ic-9ybcPKgr3Xs_w_FhJqS',\n",
       "     'width': 3024}],\n",
       "   'place_id': 'ChIJPzJ70kJZwokRqM2_BLNDfac',\n",
       "   'plus_code': {'compound_code': 'Q27V+VM New York',\n",
       "    'global_code': '87G8Q27V+VM'},\n",
       "   'rating': 4.1,\n",
       "   'reference': 'ChIJPzJ70kJZwokRqM2_BLNDfac',\n",
       "   'types': ['hospital', 'health', 'point_of_interest', 'establishment'],\n",
       "   'user_ratings_total': 17},\n",
       "  {'business_status': 'OPERATIONAL',\n",
       "   'formatted_address': '2960 Broadway, New York, NY 10027, United States',\n",
       "   'geometry': {'location': {'lat': 40.8079381, 'lng': -73.9631966},\n",
       "    'viewport': {'northeast': {'lat': 40.80938782989272,\n",
       "      'lng': -73.96208782010729},\n",
       "     'southwest': {'lat': 40.80668817010728, 'lng': -73.96478747989273}}},\n",
       "   'icon': 'https://maps.gstatic.com/mapfiles/place_api/icons/v1/png_71/hospital-71.png',\n",
       "   'icon_background_color': '#F88181',\n",
       "   'icon_mask_base_uri': 'https://maps.gstatic.com/mapfiles/place_api/icons/v2/hospital-H_pinlet',\n",
       "   'name': 'New York Presbyterian Med Center',\n",
       "   'photos': [{'height': 413,\n",
       "     'html_attributions': ['<a href=\"https://maps.google.com/maps/contrib/101415071930943280020\">A Google User</a>'],\n",
       "     'photo_reference': 'Aap_uEAlK8Ogt3BD-w6sUbgX4DMAYxRSnLLho9s0GAUZV_AuI-EkVjguetNyZo6_tU_UHWjWona3u0AtU8tANJyp_KKek3IQkPgValVQ8e8iHF3W-g9Amqpp9V7rS-KD7wb1NajMDYa2y9ZGC2WogAFkbAaXdZKlksVMKgYNwi73K8Ppmfxa',\n",
       "     'width': 620}],\n",
       "   'place_id': 'ChIJoX6P6z72wokRm4yIRABW4lY',\n",
       "   'plus_code': {'compound_code': 'R25P+5P New York',\n",
       "    'global_code': '87G8R25P+5P'},\n",
       "   'rating': 4.8,\n",
       "   'reference': 'ChIJoX6P6z72wokRm4yIRABW4lY',\n",
       "   'types': ['hospital', 'health', 'point_of_interest', 'establishment'],\n",
       "   'user_ratings_total': 8},\n",
       "  {'business_status': 'OPERATIONAL',\n",
       "   'formatted_address': '4 East 89th Street Suite #1A, New York, NY 10128, United States',\n",
       "   'geometry': {'location': {'lat': 40.7830746, 'lng': -73.9584608},\n",
       "    'viewport': {'northeast': {'lat': 40.78448562989272,\n",
       "      'lng': -73.95706612010727},\n",
       "     'southwest': {'lat': 40.78178597010728, 'lng': -73.9597657798927}}},\n",
       "   'icon': 'https://maps.gstatic.com/mapfiles/place_api/icons/v1/png_71/hospital-71.png',\n",
       "   'icon_background_color': '#F88181',\n",
       "   'icon_mask_base_uri': 'https://maps.gstatic.com/mapfiles/place_api/icons/v2/hospital-H_pinlet',\n",
       "   'name': 'Eastside Comprehensive Medical Center',\n",
       "   'opening_hours': {'open_now': True},\n",
       "   'place_id': 'ChIJSRBx2upYwokRYvj3zQomIsY',\n",
       "   'plus_code': {'compound_code': 'Q2MR+6J New York',\n",
       "    'global_code': '87G8Q2MR+6J'},\n",
       "   'rating': 2,\n",
       "   'reference': 'ChIJSRBx2upYwokRYvj3zQomIsY',\n",
       "   'types': ['hospital', 'health', 'point_of_interest', 'establishment'],\n",
       "   'user_ratings_total': 2},\n",
       "  {'business_status': 'OPERATIONAL',\n",
       "   'formatted_address': '677 E 213th St, Bronx, NY 10467, United States',\n",
       "   'geometry': {'location': {'lat': 40.8795075, 'lng': -73.8656003},\n",
       "    'viewport': {'northeast': {'lat': 40.88078867989272,\n",
       "      'lng': -73.86428427010728},\n",
       "     'southwest': {'lat': 40.87808902010728, 'lng': -73.86698392989271}}},\n",
       "   'icon': 'https://maps.gstatic.com/mapfiles/place_api/icons/v1/png_71/hospital-71.png',\n",
       "   'icon_background_color': '#F88181',\n",
       "   'icon_mask_base_uri': 'https://maps.gstatic.com/mapfiles/place_api/icons/v2/hospital-H_pinlet',\n",
       "   'name': '32 street and 1 st avenue new york hospital',\n",
       "   'place_id': 'ChIJ0aQ1hhXzwokRhBb2oD0DlE0',\n",
       "   'plus_code': {'compound_code': 'V4HM+RQ New York',\n",
       "    'global_code': '87G8V4HM+RQ'},\n",
       "   'rating': 0,\n",
       "   'reference': 'ChIJ0aQ1hhXzwokRhBb2oD0DlE0',\n",
       "   'types': ['hospital', 'health', 'point_of_interest', 'establishment'],\n",
       "   'user_ratings_total': 0},\n",
       "  {'business_status': 'OPERATIONAL',\n",
       "   'formatted_address': '83 Gold St, New York, NY 10038, United States',\n",
       "   'geometry': {'location': {'lat': 40.7101498, 'lng': -74.00475829999999},\n",
       "    'viewport': {'northeast': {'lat': 40.71162752989272,\n",
       "      'lng': -74.00371537010727},\n",
       "     'southwest': {'lat': 40.70892787010728, 'lng': -74.00641502989272}}},\n",
       "   'icon': 'https://maps.gstatic.com/mapfiles/place_api/icons/v1/png_71/generic_business-71.png',\n",
       "   'icon_background_color': '#7B9EB0',\n",
       "   'icon_mask_base_uri': 'https://maps.gstatic.com/mapfiles/place_api/icons/v2/generic_pinlet',\n",
       "   'name': 'NewYork-Presbyterian Lower Manhattan Hospital Emergency Department',\n",
       "   'opening_hours': {'open_now': True},\n",
       "   'photos': [{'height': 3000,\n",
       "     'html_attributions': ['<a href=\"https://maps.google.com/maps/contrib/111594180111530208263\">Luc van ussel</a>'],\n",
       "     'photo_reference': 'Aap_uEBeKP_AD07qe-7hB1MOiQDHtvcZQjDE4XhFw3SLnh5jdYA5QyAG6wJDzWhG1jVaNlByhMurl49Qf_yaMWIwbPz9i7EexuGCu_0nAxcz7fmB42heZ4PoIliXilKFqymfyHyCddhX7Q24tsAf2cu738AAOa6XpYGN6FK5MToYIwfzs1H9',\n",
       "     'width': 4496}],\n",
       "   'place_id': 'ChIJpYoZlyJawokRLQYQtGD-y9I',\n",
       "   'plus_code': {'compound_code': 'PX6W+33 New York',\n",
       "    'global_code': '87G7PX6W+33'},\n",
       "   'rating': 2.5,\n",
       "   'reference': 'ChIJpYoZlyJawokRLQYQtGD-y9I',\n",
       "   'types': ['health', 'point_of_interest', 'establishment'],\n",
       "   'user_ratings_total': 22},\n",
       "  {'business_status': 'OPERATIONAL',\n",
       "   'formatted_address': '79-01 Broadway, Queens, NY 11373, United States',\n",
       "   'geometry': {'location': {'lat': 40.7446774, 'lng': -73.8860322},\n",
       "    'viewport': {'northeast': {'lat': 40.74593347989272,\n",
       "      'lng': -73.88480092010728},\n",
       "     'southwest': {'lat': 40.74323382010728, 'lng': -73.88750057989272}}},\n",
       "   'icon': 'https://maps.gstatic.com/mapfiles/place_api/icons/v1/png_71/hospital-71.png',\n",
       "   'icon_background_color': '#F88181',\n",
       "   'icon_mask_base_uri': 'https://maps.gstatic.com/mapfiles/place_api/icons/v2/hospital-H_pinlet',\n",
       "   'name': 'Elmhurst Hospital Center',\n",
       "   'opening_hours': {'open_now': True},\n",
       "   'photos': [{'height': 3024,\n",
       "     'html_attributions': ['<a href=\"https://maps.google.com/maps/contrib/107702204587838302477\">Sumun Rahman</a>'],\n",
       "     'photo_reference': 'Aap_uEBK8vwJM7u5tp5YeEzN42UXvh2SiRGZHEc3XYT9jf231L42FF2EsX8ESZAahQKlP5iECH7LR7rNoRt_KmEVHtf_zXoNPEGz3wRwlZBgnCXD2JIiNu99na3sH1MEbFeQsH76cDjvDOG9YVikhvJkf5QIosYxDdlA-14H3Nx9NEGciC9k',\n",
       "     'width': 4032}],\n",
       "   'place_id': 'ChIJi2Z3IpVfwokRVV7i1kf6Zuk',\n",
       "   'plus_code': {'compound_code': 'P4V7+VH New York',\n",
       "    'global_code': '87G8P4V7+VH'},\n",
       "   'rating': 2.6,\n",
       "   'reference': 'ChIJi2Z3IpVfwokRVV7i1kf6Zuk',\n",
       "   'types': ['hospital',\n",
       "    'doctor',\n",
       "    'health',\n",
       "    'point_of_interest',\n",
       "    'establishment'],\n",
       "   'user_ratings_total': 1120},\n",
       "  {'business_status': 'OPERATIONAL',\n",
       "   'formatted_address': '150 E 77th St, New York, NY 10021, United States',\n",
       "   'geometry': {'location': {'lat': 40.773334, 'lng': -73.95964599999999},\n",
       "    'viewport': {'northeast': {'lat': 40.77475372989272,\n",
       "      'lng': -73.95846462010728},\n",
       "     'southwest': {'lat': 40.77205407010727, 'lng': -73.96116427989271}}},\n",
       "   'icon': 'https://maps.gstatic.com/mapfiles/place_api/icons/v1/png_71/hospital-71.png',\n",
       "   'icon_background_color': '#F88181',\n",
       "   'icon_mask_base_uri': 'https://maps.gstatic.com/mapfiles/place_api/icons/v2/hospital-H_pinlet',\n",
       "   'name': 'Mount Sinai Health System',\n",
       "   'place_id': 'ChIJHZjbYpVYwokRZEVlNN8CQ7s',\n",
       "   'plus_code': {'compound_code': 'Q2FR+84 New York',\n",
       "    'global_code': '87G8Q2FR+84'},\n",
       "   'rating': 5,\n",
       "   'reference': 'ChIJHZjbYpVYwokRZEVlNN8CQ7s',\n",
       "   'types': ['hospital', 'health', 'point_of_interest', 'establishment'],\n",
       "   'user_ratings_total': 1},\n",
       "  {'business_status': 'OPERATIONAL',\n",
       "   'formatted_address': '3424 Kossuth Ave, Bronx, NY 10467, United States',\n",
       "   'geometry': {'location': {'lat': 40.8805787, 'lng': -73.88108249999999},\n",
       "    'viewport': {'northeast': {'lat': 40.88178977989271,\n",
       "      'lng': -73.88005102010727},\n",
       "     'southwest': {'lat': 40.87909012010727, 'lng': -73.88275067989271}}},\n",
       "   'icon': 'https://maps.gstatic.com/mapfiles/place_api/icons/v1/png_71/hospital-71.png',\n",
       "   'icon_background_color': '#F88181',\n",
       "   'icon_mask_base_uri': 'https://maps.gstatic.com/mapfiles/place_api/icons/v2/hospital-H_pinlet',\n",
       "   'name': 'NYC Health + Hospitals/North Central Bronx',\n",
       "   'opening_hours': {'open_now': True},\n",
       "   'photos': [{'height': 2268,\n",
       "     'html_attributions': ['<a href=\"https://maps.google.com/maps/contrib/112958950604310355395\">howardaverellbrown</a>'],\n",
       "     'photo_reference': 'Aap_uECSKjFM1S7IswU-jASdFRqJOigVo_ATN5mdTGzp4PsQhN0_wz-UObg4lrDQWDI2pG3lZqmc74giRh4ZFVV3F5zNh3e9kWpuMNALGyznn7zb8tMxs0Pynu2DWl-cOFGQbLU5nP0kFQCHdrr5J18D58kv8lR5Ambk61Gjjaq0vK2weafx',\n",
       "     'width': 4032}],\n",
       "   'place_id': 'ChIJwTY17gzzwokRQrEpESVojEA',\n",
       "   'plus_code': {'compound_code': 'V4J9+6H New York',\n",
       "    'global_code': '87G8V4J9+6H'},\n",
       "   'rating': 3.1,\n",
       "   'reference': 'ChIJwTY17gzzwokRQrEpESVojEA',\n",
       "   'types': ['hospital', 'health', 'point_of_interest', 'establishment'],\n",
       "   'user_ratings_total': 271},\n",
       "  {'business_status': 'OPERATIONAL',\n",
       "   'formatted_address': '82-68 164th St, Queens, NY 11432, United States',\n",
       "   'geometry': {'location': {'lat': 40.7169282, 'lng': -73.8045894},\n",
       "    'viewport': {'northeast': {'lat': 40.71864007989272,\n",
       "      'lng': -73.80290437010727},\n",
       "     'southwest': {'lat': 40.71594042010727, 'lng': -73.80560402989272}}},\n",
       "   'icon': 'https://maps.gstatic.com/mapfiles/place_api/icons/v1/png_71/hospital-71.png',\n",
       "   'icon_background_color': '#F88181',\n",
       "   'icon_mask_base_uri': 'https://maps.gstatic.com/mapfiles/place_api/icons/v2/hospital-H_pinlet',\n",
       "   'name': 'Queens Hospital Center',\n",
       "   'opening_hours': {'open_now': True},\n",
       "   'photos': [{'height': 3024,\n",
       "     'html_attributions': ['<a href=\"https://maps.google.com/maps/contrib/117296398828412624860\">Husni Zannat</a>'],\n",
       "     'photo_reference': 'Aap_uEBam0_1qI0qyDKvXWsxsKsXychKjKTIUxzF3icMNBi8ppgURF9_S1s9Uyl8bcx24gZ3fONafID2OOigs5uYm30xoctzU1qxCQbtlx1MLoz-E3Jxfw5NI2oFImLdujqDVAtDPiKEi_NC0cQTjllcW8aHehJVSfWX2eD0tZs4GXrNJqiI',\n",
       "     'width': 4032}],\n",
       "   'place_id': 'ChIJ7UlCQ6dhwokRud4i8iTnSAg',\n",
       "   'plus_code': {'compound_code': 'P58W+Q5 New York',\n",
       "    'global_code': '87G8P58W+Q5'},\n",
       "   'rating': 4.1,\n",
       "   'reference': 'ChIJ7UlCQ6dhwokRud4i8iTnSAg',\n",
       "   'types': ['hospital', 'health', 'point_of_interest', 'establishment'],\n",
       "   'user_ratings_total': 1310},\n",
       "  {'business_status': 'OPERATIONAL',\n",
       "   'formatted_address': '56-45 Main St, Queens, NY 11355, United States',\n",
       "   'geometry': {'location': {'lat': 40.7471986, 'lng': -73.82521489999999},\n",
       "    'viewport': {'northeast': {'lat': 40.74867727989272,\n",
       "      'lng': -73.82388022010727},\n",
       "     'southwest': {'lat': 40.74597762010728, 'lng': -73.82657987989272}}},\n",
       "   'icon': 'https://maps.gstatic.com/mapfiles/place_api/icons/v1/png_71/hospital-71.png',\n",
       "   'icon_background_color': '#F88181',\n",
       "   'icon_mask_base_uri': 'https://maps.gstatic.com/mapfiles/place_api/icons/v2/hospital-H_pinlet',\n",
       "   'name': 'NewYork-Presbyterian Queens Hospital',\n",
       "   'opening_hours': {},\n",
       "   'photos': [{'height': 2448,\n",
       "     'html_attributions': ['<a href=\"https://maps.google.com/maps/contrib/105042035445578450001\">Shamim</a>'],\n",
       "     'photo_reference': 'Aap_uEB0NDUj7iBtW1u7ULRFMbz541e0JDJ-1kt1C6DrQQgapi4VILyn78hdzUVj_8IfLE4w76YBgYbAMVqnJgvEfEPxiEKUhj9uEeGIUbRzK-b76ZHQ2a2BN5xs4pV9wotdLYmznRBoViEONjq73FB_vwW6jzxRYcIH-JRkNjOGifdFsWPt',\n",
       "     'width': 3264}],\n",
       "   'place_id': 'ChIJJ-iLpm5gwokRjmTfwQ6e-K8',\n",
       "   'plus_code': {'compound_code': 'P5WF+VW New York',\n",
       "    'global_code': '87G8P5WF+VW'},\n",
       "   'rating': 3.3,\n",
       "   'reference': 'ChIJJ-iLpm5gwokRjmTfwQ6e-K8',\n",
       "   'types': ['hospital', 'health', 'point_of_interest', 'establishment'],\n",
       "   'user_ratings_total': 939},\n",
       "  {'business_status': 'OPERATIONAL',\n",
       "   'formatted_address': '1000 10th Ave, New York, NY 10019, United States',\n",
       "   'geometry': {'location': {'lat': 40.7697168, 'lng': -73.9868805},\n",
       "    'viewport': {'northeast': {'lat': 40.77125407989272,\n",
       "      'lng': -73.98601322010727},\n",
       "     'southwest': {'lat': 40.76855442010728, 'lng': -73.98871287989272}}},\n",
       "   'icon': 'https://maps.gstatic.com/mapfiles/place_api/icons/v1/png_71/hospital-71.png',\n",
       "   'icon_background_color': '#F88181',\n",
       "   'icon_mask_base_uri': 'https://maps.gstatic.com/mapfiles/place_api/icons/v2/hospital-H_pinlet',\n",
       "   'name': 'Hospital de Liam',\n",
       "   'opening_hours': {},\n",
       "   'place_id': 'ChIJG7FWOllYwokRJ8H_UQMxuRo',\n",
       "   'plus_code': {'compound_code': 'Q297+V6 New York',\n",
       "    'global_code': '87G8Q297+V6'},\n",
       "   'rating': 0,\n",
       "   'reference': 'ChIJG7FWOllYwokRJ8H_UQMxuRo',\n",
       "   'types': ['hospital', 'health', 'point_of_interest', 'establishment'],\n",
       "   'user_ratings_total': 0},\n",
       "  {'business_status': 'OPERATIONAL',\n",
       "   'formatted_address': '2525 Kings Hwy, Brooklyn, NY 11229, United States',\n",
       "   'geometry': {'location': {'lat': 40.6139406, 'lng': -73.9484207},\n",
       "    'viewport': {'northeast': {'lat': 40.61521892989273,\n",
       "      'lng': -73.94700932010728},\n",
       "     'southwest': {'lat': 40.61251927010728, 'lng': -73.94970897989272}}},\n",
       "   'icon': 'https://maps.gstatic.com/mapfiles/place_api/icons/v1/png_71/hospital-71.png',\n",
       "   'icon_background_color': '#F88181',\n",
       "   'icon_mask_base_uri': 'https://maps.gstatic.com/mapfiles/place_api/icons/v2/hospital-H_pinlet',\n",
       "   'name': 'New York Community Hospital',\n",
       "   'opening_hours': {'open_now': True},\n",
       "   'photos': [{'height': 2000,\n",
       "     'html_attributions': ['<a href=\"https://maps.google.com/maps/contrib/114170981696949868815\">New York Community Hospital</a>'],\n",
       "     'photo_reference': 'Aap_uECWMPGZSqWWKAb2FEQBeJDgKXmFjlGGbYtHmKeLTp-uliottQggdxEzKp6IfLlo-hAArVpIrwlmDMi_qZqUWyjC9xqNPC8ieOc4l7xY8-w-aARULTDkYO0Uw-1k7XY_uCuk3ZZhCARLUrWdvDUcT0LJef26by5xGdwnLeEsJdQ4ulyC',\n",
       "     'width': 2800}],\n",
       "   'place_id': 'ChIJa0scJr1EwokRVwInlMZrVZY',\n",
       "   'plus_code': {'compound_code': 'J372+HJ New York',\n",
       "    'global_code': '87G8J372+HJ'},\n",
       "   'rating': 2.7,\n",
       "   'reference': 'ChIJa0scJr1EwokRVwInlMZrVZY',\n",
       "   'types': ['hospital', 'health', 'point_of_interest', 'establishment'],\n",
       "   'user_ratings_total': 172},\n",
       "  {'business_status': 'OPERATIONAL',\n",
       "   'formatted_address': '760 Broadway, Brooklyn, NY 11206, United States',\n",
       "   'geometry': {'location': {'lat': 40.6994152, 'lng': -73.9430003},\n",
       "    'viewport': {'northeast': {'lat': 40.7014964, 'lng': -73.9401916},\n",
       "     'southwest': {'lat': 40.69731640000001, 'lng': -73.94541879999998}}},\n",
       "   'icon': 'https://maps.gstatic.com/mapfiles/place_api/icons/v1/png_71/hospital-71.png',\n",
       "   'icon_background_color': '#F88181',\n",
       "   'icon_mask_base_uri': 'https://maps.gstatic.com/mapfiles/place_api/icons/v2/hospital-H_pinlet',\n",
       "   'name': 'NYC Health + Hospitals/Woodhull',\n",
       "   'opening_hours': {'open_now': True},\n",
       "   'photos': [{'height': 4032,\n",
       "     'html_attributions': ['<a href=\"https://maps.google.com/maps/contrib/115034317907569632101\">Slava Gorodovoy</a>'],\n",
       "     'photo_reference': 'Aap_uEBVwMcaFmOmjCxEHWu0uw8792sbXGr16OJFjFhJlfjS7BJu975kaEoga6a5aZprFJsQW7s1XyT6cu5Ut5Kbc8WijT7F6iR5GRvTjwAPntSxdQmnWh5EkLKCataqT6ThVS389I2xSUloCtfvog_5SlyMh9v9knVmqWj1IiNae_HdLa01',\n",
       "     'width': 3024}],\n",
       "   'place_id': 'ChIJCQGqpfBbwokRmdgPurJ5qqo',\n",
       "   'plus_code': {'compound_code': 'M3X4+QQ Brooklyn, New York',\n",
       "    'global_code': '87G8M3X4+QQ'},\n",
       "   'rating': 2.5,\n",
       "   'reference': 'ChIJCQGqpfBbwokRmdgPurJ5qqo',\n",
       "   'types': ['hospital', 'health', 'point_of_interest', 'establishment'],\n",
       "   'user_ratings_total': 511},\n",
       "  {'business_status': 'OPERATIONAL',\n",
       "   'formatted_address': '1 Brookdale Plaza, Brooklyn, NY 11212, United States',\n",
       "   'geometry': {'location': {'lat': 40.6549713, 'lng': -73.9123577},\n",
       "    'viewport': {'northeast': {'lat': 40.65603357989272,\n",
       "      'lng': -73.91126707010727},\n",
       "     'southwest': {'lat': 40.65333392010728, 'lng': -73.9139667298927}}},\n",
       "   'icon': 'https://maps.gstatic.com/mapfiles/place_api/icons/v1/png_71/hospital-71.png',\n",
       "   'icon_background_color': '#F88181',\n",
       "   'icon_mask_base_uri': 'https://maps.gstatic.com/mapfiles/place_api/icons/v2/hospital-H_pinlet',\n",
       "   'name': 'Brookdale University Hospital Medical Center',\n",
       "   'opening_hours': {'open_now': True},\n",
       "   'photos': [{'height': 4160,\n",
       "     'html_attributions': ['<a href=\"https://maps.google.com/maps/contrib/118271806214551102411\">saintsrow champ</a>'],\n",
       "     'photo_reference': 'Aap_uEDT7XUMZHvXh8BWsVoYPOr1Q0pTbpbOFmEHte82-H2BoHrdD8-F7DLyUBz0ueeSFUJzsf11_1B6fxIyL2RCFq_I-XcgVuPRqzqmvuinkrqQP0AvRuSrGfLqcmU1IgN4W6f369_rXR2kZVo2aZE5g9VJTdDe_kvarN2mxCHNj32Mjffa',\n",
       "     'width': 3120}],\n",
       "   'place_id': 'ChIJucG-Te1cwokRgHAub0PMu-8',\n",
       "   'plus_code': {'compound_code': 'M33Q+X3 Brooklyn, New York',\n",
       "    'global_code': '87G8M33Q+X3'},\n",
       "   'rating': 2,\n",
       "   'reference': 'ChIJucG-Te1cwokRgHAub0PMu-8',\n",
       "   'types': ['hospital', 'health', 'point_of_interest', 'establishment'],\n",
       "   'user_ratings_total': 501},\n",
       "  {'business_status': 'OPERATIONAL',\n",
       "   'formatted_address': '160 E 54th St, New York, NY 10022, United States',\n",
       "   'geometry': {'location': {'lat': 40.758362, 'lng': -73.9698216},\n",
       "    'viewport': {'northeast': {'lat': 40.75960972989272,\n",
       "      'lng': -73.96878767010728},\n",
       "     'southwest': {'lat': 40.75691007010727, 'lng': -73.97148732989272}}},\n",
       "   'icon': 'https://maps.gstatic.com/mapfiles/place_api/icons/v1/png_71/hospital-71.png',\n",
       "   'icon_background_color': '#F88181',\n",
       "   'icon_mask_base_uri': 'https://maps.gstatic.com/mapfiles/place_api/icons/v2/hospital-H_pinlet',\n",
       "   'name': 'Hospatei',\n",
       "   'opening_hours': {},\n",
       "   'place_id': 'ChIJb7naoeRYwokR8Yjuz0LkM5Y',\n",
       "   'plus_code': {'compound_code': 'Q25J+83 New York',\n",
       "    'global_code': '87G8Q25J+83'},\n",
       "   'rating': 0,\n",
       "   'reference': 'ChIJb7naoeRYwokR8Yjuz0LkM5Y',\n",
       "   'types': ['hospital', 'health', 'point_of_interest', 'establishment'],\n",
       "   'user_ratings_total': 0},\n",
       "  {'business_status': 'OPERATIONAL',\n",
       "   'formatted_address': '645 Kingston Ave, Brooklyn, NY 11203, United States',\n",
       "   'geometry': {'location': {'lat': 40.6581135, 'lng': -73.9413627},\n",
       "    'viewport': {'northeast': {'lat': 40.65945717989272,\n",
       "      'lng': -73.94004567010728},\n",
       "     'southwest': {'lat': 40.65675752010728, 'lng': -73.94274532989273}}},\n",
       "   'icon': 'https://maps.gstatic.com/mapfiles/place_api/icons/v1/png_71/hospital-71.png',\n",
       "   'icon_background_color': '#F88181',\n",
       "   'icon_mask_base_uri': 'https://maps.gstatic.com/mapfiles/place_api/icons/v2/hospital-H_pinlet',\n",
       "   'name': 'New York City Health & Hospital',\n",
       "   'place_id': 'ChIJa145fGRbwokRjTs15VjQ9xk',\n",
       "   'plus_code': {'compound_code': 'M355+6F New York',\n",
       "    'global_code': '87G8M355+6F'},\n",
       "   'rating': 4,\n",
       "   'reference': 'ChIJa145fGRbwokRjTs15VjQ9xk',\n",
       "   'types': ['hospital', 'health', 'point_of_interest', 'establishment'],\n",
       "   'user_ratings_total': 5},\n",
       "  {'business_status': 'OPERATIONAL',\n",
       "   'formatted_address': '30 7th Ave, New York, NY 10011, United States',\n",
       "   'geometry': {'location': {'lat': 40.7378021, 'lng': -74.000909},\n",
       "    'viewport': {'northeast': {'lat': 40.73903707989273,\n",
       "      'lng': -73.99931907010726},\n",
       "     'southwest': {'lat': 40.73633742010728, 'lng': -74.00201872989271}}},\n",
       "   'icon': 'https://maps.gstatic.com/mapfiles/place_api/icons/v1/png_71/generic_business-71.png',\n",
       "   'icon_background_color': '#7B9EB0',\n",
       "   'icon_mask_base_uri': 'https://maps.gstatic.com/mapfiles/place_api/icons/v2/generic_pinlet',\n",
       "   'name': 'Lenox Health Greenwich Village',\n",
       "   'opening_hours': {'open_now': True},\n",
       "   'photos': [{'height': 1600,\n",
       "     'html_attributions': ['<a href=\"https://maps.google.com/maps/contrib/112673113308394800328\">Eric Maher</a>'],\n",
       "     'photo_reference': 'Aap_uEB-VdDCuDfk8-Dbu1KGjHZzaJeE6aVQ1GatkdxFclq3hJUsio2CYlcASZ74Kyu50-_pregZV4stUwB972Yucni1SQqUQjOUFrR5bUFP14y1avNuHQIbUTj2EU_lcUimsbcmIJs7CnZ8WH0wduc9_WsGkCIOEUVWi5vjTsOQAMseQuE6',\n",
       "     'width': 900}],\n",
       "   'place_id': 'ChIJBSBb_pVZwokRnlF1jL56-l4',\n",
       "   'plus_code': {'compound_code': 'PXQX+4J New York',\n",
       "    'global_code': '87G7PXQX+4J'},\n",
       "   'rating': 3.2,\n",
       "   'reference': 'ChIJBSBb_pVZwokRnlF1jL56-l4',\n",
       "   'types': ['health', 'point_of_interest', 'establishment'],\n",
       "   'user_ratings_total': 179},\n",
       "  {'business_status': 'OPERATIONAL',\n",
       "   'formatted_address': '121 Dekalb Ave, Brooklyn, NY 11201, United States',\n",
       "   'geometry': {'location': {'lat': 40.6909388, 'lng': -73.9780268},\n",
       "    'viewport': {'northeast': {'lat': 40.6919438, 'lng': -73.97666249999999},\n",
       "     'southwest': {'lat': 40.6890822, 'lng': -73.9794961}}},\n",
       "   'icon': 'https://maps.gstatic.com/mapfiles/place_api/icons/v1/png_71/hospital-71.png',\n",
       "   'icon_background_color': '#F88181',\n",
       "   'icon_mask_base_uri': 'https://maps.gstatic.com/mapfiles/place_api/icons/v2/hospital-H_pinlet',\n",
       "   'name': 'The Brooklyn Hospital Center',\n",
       "   'opening_hours': {'open_now': True},\n",
       "   'photos': [{'height': 614,\n",
       "     'html_attributions': ['<a href=\"https://maps.google.com/maps/contrib/100457509154924734155\">A Google User</a>'],\n",
       "     'photo_reference': 'Aap_uED7PtS4h_Ny-0MqP9HajZqDLJJ4Owf8gqK0yTdVcvYNjGMTw23yj11ClBYl4ykDfHEn5N4217J55aLnRhmqbDgAEhwfEr-Ze03icbAwmsLgbYbXPXK-8_Bv2BM6KvGkgN4xdGhqg4emdVOksGCxTX_uD8oR9HFpbkablmA0yh5M6SUD',\n",
       "     'width': 828}],\n",
       "   'place_id': 'ChIJw8KgD7RbwokRj4_cyW8i850',\n",
       "   'plus_code': {'compound_code': 'M2RC+9Q New York',\n",
       "    'global_code': '87G8M2RC+9Q'},\n",
       "   'rating': 3,\n",
       "   'reference': 'ChIJw8KgD7RbwokRj4_cyW8i850',\n",
       "   'types': ['hospital', 'health', 'point_of_interest', 'establishment'],\n",
       "   'user_ratings_total': 459}],\n",
       " 'status': 'OK'}"
      ]
     },
     "execution_count": 100,
     "metadata": {},
     "output_type": "execute_result"
    }
   ],
   "source": [
    "response_json"
   ]
  }
 ],
 "metadata": {
  "kernelspec": {
   "display_name": "Python 3 (ipykernel)",
   "language": "python",
   "name": "python3"
  },
  "language_info": {
   "codemirror_mode": {
    "name": "ipython",
    "version": 3
   },
   "file_extension": ".py",
   "mimetype": "text/x-python",
   "name": "python",
   "nbconvert_exporter": "python",
   "pygments_lexer": "ipython3",
   "version": "3.9.5"
  }
 },
 "nbformat": 4,
 "nbformat_minor": 5
}
